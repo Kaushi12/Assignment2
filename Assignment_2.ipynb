{
 "cells": [
  {
   "cell_type": "code",
   "execution_count": 10,
   "metadata": {},
   "outputs": [],
   "source": [
    "def LinearSearch(arr):\n",
    "    flag=0\n",
    "    for i in range(0,len(arr)):\n",
    "        if i==arr[i]:\n",
    "            flag=1\n",
    "            print(arr[i])\n",
    "    if flag==0:\n",
    "        print(\"No such elements\")\n",
    "    \n",
    "        "
   ]
  },
  {
   "cell_type": "code",
   "execution_count": 16,
   "metadata": {},
   "outputs": [
    {
     "name": "stdout",
     "output_type": "stream",
     "text": [
      "3\n",
      "Time taken:  1.0001659393310547\n"
     ]
    }
   ],
   "source": [
    "import time\n",
    "start=time.time()\n",
    "LinearSearch([-10, -1, 0, 3, 10, 11, 30, 50, 100])\n",
    "end=time.time()\n",
    "print(\"Time taken: \",(end-start)*1000)"
   ]
  },
  {
   "cell_type": "code",
   "execution_count": 39,
   "metadata": {},
   "outputs": [],
   "source": [
    "def binarySearch(arr, low, high):\n",
    "    if high >= low:\n",
    "        mid = (low + high)//2\n",
    "     \n",
    "    if mid is arr[mid]:\n",
    "        return mid\n",
    "     \n",
    "    if mid > arr[mid]:\n",
    "        return binarySearch(arr, (mid + 1), high)\n",
    "    else:\n",
    "        return binarySearch(arr, low, (mid -1))\n",
    "     \n",
    "    # Return -1 if there is no Fixed Point\n",
    "    return -1"
   ]
  },
  {
   "cell_type": "code",
   "execution_count": 40,
   "metadata": {},
   "outputs": [
    {
     "name": "stdout",
     "output_type": "stream",
     "text": [
      "Fixed Point is 3\n",
      "Time taken:  1.0025501251220703\n"
     ]
    }
   ],
   "source": [
    "import time\n",
    "start=time.time()\n",
    "arr = [-10, -1, 0, 3, 10, 11, 30, 50, 100]\n",
    "n=len(arr)\n",
    "print(\"Fixed Point is \" + str(binarySearch(arr, 0, n-1)))\n",
    "end=time.time()\n",
    "print(\"Time taken: \",(end-start)*1000)"
   ]
  },
  {
   "cell_type": "code",
   "execution_count": 1,
   "metadata": {},
   "outputs": [],
   "source": [
    "MAX_VAL=10000000\n",
    "def twoSum(arr,target,n):\n",
    "    pair1_idx,pair2_idx=0,0\n",
    "    low,high,diff=0,n-1,MAX_VAL\n",
    "    while high>low:\n",
    "        if abs(arr[low]+arr[high]-target)<diff:\n",
    "            pair1_idx = low\n",
    "            pair2_idx = high\n",
    "            diff=abs(arr[low]+arr[high]-target)\n",
    "        if(arr[low]+arr[high])>target:\n",
    "            high=high-1\n",
    "        else:\n",
    "            low=low+1\n",
    "    print(\"The pair is {} and {}\".format(arr[pair1_idx],arr[pair2_idx]))\n",
    "    "
   ]
  },
  {
   "cell_type": "code",
   "execution_count": 2,
   "metadata": {},
   "outputs": [
    {
     "name": "stdout",
     "output_type": "stream",
     "text": [
      "The pair is 22 and 30\n"
     ]
    }
   ],
   "source": [
    "arr=[10,22,28,29,30,40]\n",
    "target=54\n",
    "n=len(arr)\n",
    "twoSum(arr,target,n)"
   ]
  },
  {
   "cell_type": "code",
   "execution_count": null,
   "metadata": {},
   "outputs": [],
   "source": [
    "#Leetcode problem solution\n",
    "class Solution:\n",
    "    def twoSum(self, nums: List[int], target: int) -> List[int]:\n",
    "        foundSolution=False\n",
    "        i=0\n",
    "        solutionList=[]\n",
    "        while i<len(nums) and not foundSolution:\n",
    "            j=i+1\n",
    "            while j<len(nums) and not foundSolution:\n",
    "                if nums[i]+nums[j]==target:\n",
    "                    foundSolution=True\n",
    "                    solutionList.append(i)\n",
    "                    solutionList.append(j)\n",
    "                j+=1\n",
    "            i+=1\n",
    "        return solutionList"
   ]
  }
 ],
 "metadata": {
  "kernelspec": {
   "display_name": "Python 3",
   "language": "python",
   "name": "python3"
  },
  "language_info": {
   "codemirror_mode": {
    "name": "ipython",
    "version": 3
   },
   "file_extension": ".py",
   "mimetype": "text/x-python",
   "name": "python",
   "nbconvert_exporter": "python",
   "pygments_lexer": "ipython3",
   "version": "3.8.5"
  }
 },
 "nbformat": 4,
 "nbformat_minor": 4
}
